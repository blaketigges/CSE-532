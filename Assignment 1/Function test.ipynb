{
 "cells": [
  {
   "cell_type": "code",
   "execution_count": 22,
   "metadata": {},
   "outputs": [
    {
     "name": "stdout",
     "output_type": "stream",
     "text": [
      "(1, 9) (3, 5) 5 50\n",
      "G-----I---------------------------------------------X\t0s\n",
      "-----G--I-------------------------------------------X\t1s\n",
      "---------G-------I----------------------------------X\t2s\n",
      "------------G------I--------------------------------X\t3s\n",
      "---------------G----------I-------------------------X\t4s\n",
      "-------------------G------------I-------------------X\t5s\n",
      "----------------------G----------I------------------X\t6s\n",
      "--------------------------G---------------I---------X\t7s\n",
      "-------------------------------G-----------I--------X\t8s\n",
      "-----------------------------------G--------------I-X\t9s\n",
      "---------------------------------------G-----------X\t10s\n",
      "Imp has escaped!\n"
     ]
    },
    {
     "data": {
      "text/plain": [
       "True"
      ]
     },
     "execution_count": 22,
     "metadata": {},
     "output_type": "execute_result"
    }
   ],
   "source": [
    "from imp import reload\n",
    "import GISimple\n",
    "reload(GISimple)\n",
    "# Create a new GISimple object\n",
    "impSpd = (1,9)\n",
    "golemSpd = (3,5)\n",
    "headStart = 5\n",
    "exitPosition = 50\n",
    "GISimple.GISimple(impSpd, golemSpd, headStart, exitPosition)"
   ]
  }
 ],
 "metadata": {
  "kernelspec": {
   "display_name": "cse532",
   "language": "python",
   "name": "python3"
  },
  "language_info": {
   "codemirror_mode": {
    "name": "ipython",
    "version": 3
   },
   "file_extension": ".py",
   "mimetype": "text/x-python",
   "name": "python",
   "nbconvert_exporter": "python",
   "pygments_lexer": "ipython3",
   "version": "3.11.7"
  }
 },
 "nbformat": 4,
 "nbformat_minor": 2
}
