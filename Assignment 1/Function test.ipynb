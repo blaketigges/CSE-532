{
 "cells": [
  {
   "cell_type": "code",
   "execution_count": 23,
   "metadata": {},
   "outputs": [
    {
     "ename": "TypeError",
     "evalue": "GISimple() missing 4 required positional arguments: 'impSpd', 'golemSpd', 'headStart', and 'exitPosition'",
     "output_type": "error",
     "traceback": [
      "\u001b[1;31m---------------------------------------------------------------------------\u001b[0m",
      "\u001b[1;31mTypeError\u001b[0m                                 Traceback (most recent call last)",
      "Cell \u001b[1;32mIn[23], line 9\u001b[0m\n\u001b[0;32m      7\u001b[0m headStart \u001b[38;5;241m=\u001b[39m \u001b[38;5;241m5\u001b[39m\n\u001b[0;32m      8\u001b[0m exitPosition \u001b[38;5;241m=\u001b[39m \u001b[38;5;241m50\u001b[39m\n\u001b[1;32m----> 9\u001b[0m GISimple\u001b[38;5;241m.\u001b[39mGISimple()\n",
      "\u001b[1;31mTypeError\u001b[0m: GISimple() missing 4 required positional arguments: 'impSpd', 'golemSpd', 'headStart', and 'exitPosition'"
     ]
    }
   ],
   "source": [
    "from imp import reload\n",
    "import GISimple\n",
    "reload(GISimple)\n",
    "# Create a new GISimple object\n",
    "impSpd = (1,9)\n",
    "golemSpd = (3,5)\n",
    "headStart = 5\n",
    "exitPosition = 50\n",
    "GISimple.GISimple(impSpd, golemSpd, headStart, exitPosition)"
   ]
  }
 ],
 "metadata": {
  "kernelspec": {
   "display_name": "cse532",
   "language": "python",
   "name": "python3"
  },
  "language_info": {
   "codemirror_mode": {
    "name": "ipython",
    "version": 3
   },
   "file_extension": ".py",
   "mimetype": "text/x-python",
   "name": "python",
   "nbconvert_exporter": "python",
   "pygments_lexer": "ipython3",
   "version": "3.11.7"
  }
 },
 "nbformat": 4,
 "nbformat_minor": 2
}
