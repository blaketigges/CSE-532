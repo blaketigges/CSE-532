{
 "cells": [
  {
   "cell_type": "code",
   "execution_count": 10,
   "metadata": {},
   "outputs": [
    {
     "name": "stdout",
     "output_type": "stream",
     "text": [
      "G-----I---------------------------------------------X\t0s\n",
      "----G-------I---------------------------------------X\t1s\n",
      "-------G------------I-------------------------------X\t2s\n",
      "-----------G-------------I--------------------------X\t3s\n",
      "----------------G--------------I--------------------X\t4s\n",
      "-------------------G----------------I---------------X\t5s\n",
      "------------------------G---------------I-----------X\t6s\n",
      "----------------------------G-------------I---------X\t7s\n",
      "-------------------------------G-----------I--------X\t8s\n",
      "----------------------------------G----------------IX\t9s\n",
      "Imp has escaped!\n"
     ]
    }
   ],
   "source": [
    "import random\n",
    "\n",
    "tunnels = []\n",
    "for i in range(50):\n",
    "    tunnels.append('-')\n",
    "tunnels.append('X')\n",
    "golem = 0\n",
    "imp = 5\n",
    "# G----I--------------------------------------------X\n",
    "secs = 0\n",
    "play = True\n",
    "while play == True:\n",
    "    for num, spot in enumerate(tunnels):\n",
    "        if num == golem: # Display golem at the right spot\n",
    "            print('G', end=\"\")\n",
    "        elif num == imp: # Display imp at the right spot\n",
    "            print('I', end=\"\")\n",
    "        print(spot, end=\"\")\n",
    "    print(\"\\t\"+str(secs)+\"s\")\n",
    "    secs += 1\n",
    "    if imp >= 50:\n",
    "        print(\"Imp has escaped!\")\n",
    "        play = False\n",
    "    elif golem >= imp:\n",
    "        print(\"Golem has caught the imp!\")\n",
    "        play = False\n",
    "    imp += random.randint(1, 9)\n",
    "    golem += random.randint(3, 5)"
   ]
  }
 ],
 "metadata": {
  "kernelspec": {
   "display_name": "cse532",
   "language": "python",
   "name": "python3"
  },
  "language_info": {
   "codemirror_mode": {
    "name": "ipython",
    "version": 3
   },
   "file_extension": ".py",
   "mimetype": "text/x-python",
   "name": "python",
   "nbconvert_exporter": "python",
   "pygments_lexer": "ipython3",
   "version": "3.11.7"
  }
 },
 "nbformat": 4,
 "nbformat_minor": 2
}
